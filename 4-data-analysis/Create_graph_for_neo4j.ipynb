{
 "cells": [
  {
   "cell_type": "code",
   "execution_count": 1,
   "metadata": {},
   "outputs": [],
   "source": [
    "from os import listdir\n",
    "import json\n",
    "# import the neo4j driver for Python\n",
    "from neo4j import GraphDatabase\n",
    "from collections import Counter"
   ]
  },
  {
   "cell_type": "markdown",
   "metadata": {},
   "source": [
    "# Connection configuration"
   ]
  },
  {
   "cell_type": "code",
   "execution_count": 2,
   "metadata": {},
   "outputs": [],
   "source": [
    "# Database Credentials\n",
    "uri             = \"bolt://localhost:7687\"\n",
    "userName        = \"username\"\n",
    "password        = \"password\"\n",
    "\n",
    "# Connect to the neo4j database server\n",
    "graphDB_Driver  = GraphDatabase.driver(uri, auth=(userName, password))"
   ]
  },
  {
   "cell_type": "code",
   "execution_count": 3,
   "metadata": {},
   "outputs": [],
   "source": [
    "data_path = './output/'\n",
    "files = [f for f in listdir(data_path) if f[-5:] == '.json']\n",
    "files.sort()"
   ]
  },
  {
   "cell_type": "code",
   "execution_count": 4,
   "metadata": {},
   "outputs": [
    {
     "data": {
      "text/plain": [
       "'ABUDHABI00'"
      ]
     },
     "execution_count": 4,
     "metadata": {},
     "output_type": "execute_result"
    }
   ],
   "source": [
    "files[0][2:-5] + files[0][0:2]"
   ]
  },
  {
   "cell_type": "markdown",
   "metadata": {},
   "source": [
    "# Query"
   ]
  },
  {
   "cell_type": "code",
   "execution_count": 17,
   "metadata": {},
   "outputs": [],
   "source": [
    "def create_node(node_name, name, node_type):\n",
    "    return \"CREATE (\" + node_name + \":\" + node_type + \"{ name:'\" + name + \"'})\""
   ]
  },
  {
   "cell_type": "code",
   "execution_count": 18,
   "metadata": {},
   "outputs": [],
   "source": [
    "def create_node_if_needed(node_name, name,node_type, session):\n",
    "    exist_query = \"MATCH (n) WHERE n.name ='\" + name + \"'RETURN n\"\n",
    "    res = session.run(exist_query)\n",
    "    if len(res.value())==0: # doesn't exist\n",
    "        session.run(create_node(node_name, name, node_type))"
   ]
  },
  {
   "cell_type": "code",
   "execution_count": 19,
   "metadata": {},
   "outputs": [],
   "source": [
    "def create_relationship_between_existing_nodes(name1,relation_type,name2):\n",
    "    return \"MATCH (n), (m) WHERE n.name = '\" + name1 + \"' AND m.name = '\" + name2 + \"' CREATE (n)-[:\" + relation_type + \"]->(m)\""
   ]
  },
  {
   "cell_type": "code",
   "execution_count": 20,
   "metadata": {},
   "outputs": [],
   "source": [
    "def create_relationship(node1_name, name1, node1_type, relation_type, node2_name, name2, node2_type, session):\n",
    "    '''\n",
    "    Create a relationship between 2 nodes by creating them if necessary\n",
    "    '''\n",
    "    \n",
    "    # We use the node_name to identify a node\n",
    "    create_node_if_needed(node1_name, name1, node1_type, session)\n",
    "    create_node_if_needed(node2_name, name2, node2_type, session)\n",
    "    return session.run(create_relationship_between_existing_nodes(name1,relation_type,name2))"
   ]
  },
  {
   "cell_type": "markdown",
   "metadata": {},
   "source": [
    "# Process"
   ]
  },
  {
   "cell_type": "code",
   "execution_count": 9,
   "metadata": {},
   "outputs": [],
   "source": [
    "session = graphDB_Driver.session()"
   ]
  },
  {
   "cell_type": "code",
   "execution_count": 46,
   "metadata": {},
   "outputs": [
    {
     "name": "stdout",
     "output_type": "stream",
     "text": [
      "ABUJA02\n",
      "10\n",
      "10\n"
     ]
    }
   ],
   "source": [
    "i_ent = 0\n",
    "i_per = 0\n",
    "i_doc = 0\n",
    "i=0\n",
    "for file in files:\n",
    "    current_file = open(data_path + file, encoding=\"utf8\", errors='ignore')\n",
    "    content = json.load(current_file)\n",
    "    current_file.close()\n",
    "    \n",
    "    if content != {} :\n",
    "        doc_node_name = file[2:-5] + file[0:2]\n",
    "        print(doc_node_name)\n",
    "        \n",
    "        people = []\n",
    "        entities = []\n",
    "        text_dict = {}\n",
    "        for key in content.keys():\n",
    "            people_transformed = [people.upper().replace(\"'\", \" \") for people in content[key]['people_involved'] ]\n",
    "            people.extend(people_transformed)\n",
    "            entity_transformed = [entity.upper().replace(\"'\", \" \") for entity in content[key]['entity_involved'] ]\n",
    "            entities.extend(entity_transformed)\n",
    "            \n",
    "            text_dict[key] = {}\n",
    "            text_dict[key]['people'] = people_transformed\n",
    "            text_dict[key]['entity'] = entity_transformed\n",
    "        \n",
    "        people_duplicates = [p for p in people if people.count(p) == 3] # ils sont chacun mentionnés au moins dans 3 textes\n",
    "        entity_duplicates = [e for e in entities if entities.count(e) == 3] # ils sont chacun mentionnés dans au moins 4 textes \n",
    "        \n",
    "\n",
    "        people_mentioned_in_different_document = list(set(people_duplicates)) # sans les doublons\n",
    "        entities_mentioned_in_different_document = list(set(entity_duplicates)) # sans les doublons\n",
    "        \n",
    "        people_mentioned_in_different_document = people_mentioned_in_different_document[0:10] # on limite à 10\n",
    "        entities_mentioned_in_different_document = entities_mentioned_in_different_document[0:10] # on limite à 10\n",
    "        print(len(people_mentioned_in_different_document))\n",
    "        print(len(entities_mentioned_in_different_document))\n",
    "        \n",
    "        for key in text_dict.keys():\n",
    "            for people in people_mentioned_in_different_document:\n",
    "                if people in text_dict[key]['people']:\n",
    "                    create_relationship('p' + str(i_per), people, 'person', 'mentioned', 'd' + str(i_doc), key, 'doc', session)\n",
    "                    i_per += 1\n",
    "                \n",
    "            for entity in entities_mentioned_in_different_document:\n",
    "                if entity in text_dict[key]['entity']:\n",
    "                    create_relationship('e' + str(i_ent), entity, 'entity', 'mentioned', 'd' + str(i_doc), key, 'doc', session)\n",
    "                    i_ent += 1\n",
    "            \n",
    "            i_doc += 1\n",
    "        \n",
    "        #i = i+1\n",
    "        #if i==5:\n",
    "        break"
   ]
  },
  {
   "cell_type": "code",
   "execution_count": null,
   "metadata": {},
   "outputs": [],
   "source": []
  }
 ],
 "metadata": {
  "kernelspec": {
   "display_name": "Python 3",
   "language": "python",
   "name": "python3"
  },
  "language_info": {
   "codemirror_mode": {
    "name": "ipython",
    "version": 3
   },
   "file_extension": ".py",
   "mimetype": "text/x-python",
   "name": "python",
   "nbconvert_exporter": "python",
   "pygments_lexer": "ipython3",
   "version": "3.8.3"
  },
  "toc": {
   "base_numbering": 1,
   "nav_menu": {},
   "number_sections": true,
   "sideBar": true,
   "skip_h1_title": false,
   "title_cell": "Table of Contents",
   "title_sidebar": "Contents",
   "toc_cell": false,
   "toc_position": {},
   "toc_section_display": true,
   "toc_window_display": false
  }
 },
 "nbformat": 4,
 "nbformat_minor": 4
}
